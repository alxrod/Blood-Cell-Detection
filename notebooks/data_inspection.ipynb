{
 "cells": [
  {
   "cell_type": "markdown",
   "metadata": {},
   "source": [
    "# Data Inspection"
   ]
  },
  {
   "cell_type": "code",
   "execution_count": 1,
   "metadata": {},
   "outputs": [],
   "source": [
    "from PIL import Image\n",
    "import pandas as pd\n",
    "import numpy as np\n",
    "import os\n",
    "from matplotlib import pyplot as plt\n",
    "import cv2"
   ]
  },
  {
   "cell_type": "code",
   "execution_count": 2,
   "metadata": {},
   "outputs": [
    {
     "data": {
      "text/html": [
       "<div>\n",
       "<style scoped>\n",
       "    .dataframe tbody tr th:only-of-type {\n",
       "        vertical-align: middle;\n",
       "    }\n",
       "\n",
       "    .dataframe tbody tr th {\n",
       "        vertical-align: top;\n",
       "    }\n",
       "\n",
       "    .dataframe thead th {\n",
       "        text-align: right;\n",
       "    }\n",
       "</style>\n",
       "<table border=\"1\" class=\"dataframe\">\n",
       "  <thead>\n",
       "    <tr style=\"text-align: right;\">\n",
       "      <th></th>\n",
       "      <th>Unnamed: 0</th>\n",
       "      <th>Image</th>\n",
       "      <th>Category</th>\n",
       "    </tr>\n",
       "  </thead>\n",
       "  <tbody>\n",
       "    <tr>\n",
       "      <th>0</th>\n",
       "      <td>NaN</td>\n",
       "      <td>0</td>\n",
       "      <td>NEUTROPHIL</td>\n",
       "    </tr>\n",
       "    <tr>\n",
       "      <th>1</th>\n",
       "      <td>NaN</td>\n",
       "      <td>1</td>\n",
       "      <td>NEUTROPHIL</td>\n",
       "    </tr>\n",
       "    <tr>\n",
       "      <th>2</th>\n",
       "      <td>NaN</td>\n",
       "      <td>2</td>\n",
       "      <td>NEUTROPHIL</td>\n",
       "    </tr>\n",
       "    <tr>\n",
       "      <th>3</th>\n",
       "      <td>NaN</td>\n",
       "      <td>3</td>\n",
       "      <td>NEUTROPHIL</td>\n",
       "    </tr>\n",
       "    <tr>\n",
       "      <th>4</th>\n",
       "      <td>NaN</td>\n",
       "      <td>4</td>\n",
       "      <td>NEUTROPHIL</td>\n",
       "    </tr>\n",
       "  </tbody>\n",
       "</table>\n",
       "</div>"
      ],
      "text/plain": [
       "   Unnamed: 0  Image    Category\n",
       "0         NaN      0  NEUTROPHIL\n",
       "1         NaN      1  NEUTROPHIL\n",
       "2         NaN      2  NEUTROPHIL\n",
       "3         NaN      3  NEUTROPHIL\n",
       "4         NaN      4  NEUTROPHIL"
      ]
     },
     "execution_count": 2,
     "metadata": {},
     "output_type": "execute_result"
    }
   ],
   "source": [
    "# Don't seem particularly relevant to the data we have\n",
    "labels = pd.read_csv(\"../dataset/labels.csv\")\n",
    "labels.head()"
   ]
  },
  {
   "cell_type": "code",
   "execution_count": 3,
   "metadata": {},
   "outputs": [],
   "source": [
    "# So I'm going to populate my own dataframe\n",
    "img_paths = []\n",
    "img_types = []\n",
    "train_dir = \"../dataset/images/TRAIN/\"\n",
    "cell_types = [\"EOSINOPHIL\",\"LYMPHOCYTE\",\"MONOCYTE\",\"NEUTROPHIL\"]"
   ]
  },
  {
   "cell_type": "code",
   "execution_count": 4,
   "metadata": {},
   "outputs": [],
   "source": [
    "for c_type in cell_types:\n",
    "    path = train_dir + c_type\n",
    "    for p in os.listdir(path):\n",
    "        img_paths.append(path+\"/\"+p)\n",
    "        img_types.append(c_type)\n",
    "labels = pd.DataFrame({\"cell_type\": img_types,\"img_path\":img_paths})\n",
    "        "
   ]
  },
  {
   "cell_type": "code",
   "execution_count": null,
   "metadata": {},
   "outputs": [],
   "source": [
    "# All of them\n",
    "labels.head()"
   ]
  },
  {
   "cell_type": "code",
   "execution_count": null,
   "metadata": {},
   "outputs": [],
   "source": [
    "# Shuffle the labels:\n",
    "labels = labels.sample(frac=1).reset_index(drop=True)"
   ]
  },
  {
   "cell_type": "code",
   "execution_count": null,
   "metadata": {},
   "outputs": [],
   "source": [
    "# Seems pretty hard to tell them apart\n",
    "for i, row in enumerate(labels.head().values):\n",
    "    cell_type, path = row\n",
    "    plt.figure(i)\n",
    "    plt.imshow(Image.open(path))\n",
    "    plt.title(cell_type)\n",
    "plt.show()\n"
   ]
  },
  {
   "cell_type": "markdown",
   "metadata": {},
   "source": [
    "# Preprocessing Experimentation:"
   ]
  },
  {
   "cell_type": "markdown",
   "metadata": {},
   "source": [
    "## Masking"
   ]
  },
  {
   "cell_type": "code",
   "execution_count": null,
   "metadata": {},
   "outputs": [],
   "source": [
    "test_img = Image.open(labels[\"img_path\"][1])\n",
    "array_img = np.array(test_img)\n",
    "# array_img.reshape(array_img.shape[:-1])\n",
    "plt.figure(0)\n",
    "plt.imshow(test_img)\n",
    "plt.title(\"Original\")\n",
    "channel_images = []\n",
    "for i in range(3):\n",
    "    plt.figure(i+1)\n",
    "    img = array_img[:,:,i]\n",
    "    channel_images.append(img)\n",
    "    plt.imshow(Image.fromarray(img).convert(\"LA\"))\n",
    "    plt.title(\"Channel \" + str(i+1))\n",
    "plt.show()\n"
   ]
  },
  {
   "cell_type": "code",
   "execution_count": null,
   "metadata": {},
   "outputs": [],
   "source": [
    "array_img[:,:,i].shape\n",
    "array_img[:,:,i][0][0]"
   ]
  },
  {
   "cell_type": "code",
   "execution_count": null,
   "metadata": {},
   "outputs": [],
   "source": [
    "# Removing the black outside with white so masking works effectively \n",
    "elim_black = lambda x : 255 if x < 40 else x\n",
    "vfunc = np.vectorize(elim_black)\n",
    "whitened_images = []\n",
    "for img in channel_images:\n",
    "    whitened_images.append(vfunc(img))"
   ]
  },
  {
   "cell_type": "code",
   "execution_count": null,
   "metadata": {},
   "outputs": [],
   "source": [
    "whitened_images[0]"
   ]
  },
  {
   "cell_type": "code",
   "execution_count": null,
   "metadata": {},
   "outputs": [],
   "source": [
    "# Checking\n",
    "Image.fromarray(whitened_images[1].astype('uint8'))"
   ]
  },
  {
   "cell_type": "code",
   "execution_count": null,
   "metadata": {},
   "outputs": [],
   "source": [
    "# Now mask back out the light stuff:\n",
    "elim_white = lambda x : 255 if x > 140 else x\n",
    "vfunc = np.vectorize(elim_white)\n",
    "center_images = []\n",
    "for img in channel_images:\n",
    "    center_images.append(vfunc(img))"
   ]
  },
  {
   "cell_type": "code",
   "execution_count": null,
   "metadata": {},
   "outputs": [],
   "source": [
    "Image.fromarray(center_images[0])"
   ]
  },
  {
   "cell_type": "code",
   "execution_count": null,
   "metadata": {},
   "outputs": [],
   "source": [
    "xS = []\n",
    "yS = []\n",
    "\n",
    "img = center_images[0]\n",
    "for x in range(img.shape[0]):\n",
    "    for y in range(img.shape[1]):\n",
    "        if img[x][y] < 200 and img[x][y] > 60:\n",
    "            xS.append(x)\n",
    "            yS.append(y)"
   ]
  },
  {
   "cell_type": "code",
   "execution_count": null,
   "metadata": {},
   "outputs": [],
   "source": [
    "cX = np.mean(xS)\n",
    "cY = np.mean(yS)\n",
    "center = (int(cX), int(cY))\n",
    "final_image = array_img[center[0]-48:center[0]+48,center[1]-48:center[1]+48,:]"
   ]
  },
  {
   "cell_type": "code",
   "execution_count": null,
   "metadata": {},
   "outputs": [],
   "source": [
    "Image.fromarray(final_image)\n",
    "# Bingo"
   ]
  },
  {
   "cell_type": "code",
   "execution_count": null,
   "metadata": {},
   "outputs": [],
   "source": [
    "# Final Image\n",
    "def convert_image(path):\n",
    "    starter_img = Image.open(path)\n",
    "    array_img = np.array(starter_img)\n",
    "    blue_image = array_img[:,:,1]\n",
    "    \n",
    "\n",
    "    elim_black = lambda x : 255 if x < 40 else x\n",
    "    vfunc = np.vectorize(elim_black)\n",
    "    whitened_image = vfunc(blue_image).astype(\"uint8\")\n",
    "    \n",
    "    thresh=whitened_image.min()*1.4\n",
    "    xS = []\n",
    "    yS = []\n",
    "    while len(xS) < 64:\n",
    "        elim_white = lambda x : 255 if x > thresh else x\n",
    "        vfunc2 = np.vectorize(elim_white)\n",
    "        center_image = vfunc2(whitened_image).astype(\"uint8\")\n",
    "\n",
    "        for x in range(center_image.shape[0]):\n",
    "            for y in range(center_image.shape[1]):\n",
    "                if center_image[x][y] < 200 and center_image[x][y] > 60:\n",
    "                    xS.append(x)\n",
    "                    yS.append(y)\n",
    "        cX = np.mean(xS)\n",
    "        cY = np.mean(yS)\n",
    "        if np.isnan(cX) == False:\n",
    "            center = (int(cX), int(cY))\n",
    "            padded = np.pad(array_img, ((56, 56), (56, 56), (0,0)), 'constant', constant_values=0)\n",
    "#             return padded\n",
    "            final_image = padded[center[0]:center[0]+112,center[1]:center[1]+112,:]\n",
    "        else:\n",
    "            xS = []\n",
    "            yS = []\n",
    "            thresh+=thresh*0.2\n",
    "    return final_image"
   ]
  },
  {
   "cell_type": "code",
   "execution_count": null,
   "metadata": {},
   "outputs": [],
   "source": [
    "k=0"
   ]
  },
  {
   "cell_type": "code",
   "execution_count": null,
   "metadata": {},
   "outputs": [],
   "source": [
    "k"
   ]
  },
  {
   "cell_type": "code",
   "execution_count": null,
   "metadata": {},
   "outputs": [],
   "source": [
    "# Testing Generalization:\n",
    "sample = labels.sample(n=3, random_state=k)\n",
    "for i, row in enumerate(sample.values):\n",
    "    cell_type, path = row\n",
    "    plt.figure(i)\n",
    "    plt.imshow(Image.fromarray(convert_image(path)))\n",
    "    plt.title(cell_type)\n",
    "k+=1"
   ]
  },
  {
   "cell_type": "code",
   "execution_count": null,
   "metadata": {},
   "outputs": [],
   "source": [
    "# Temp test image\n",
    "t_img = convert_image(labels[\"img_path\"][151])"
   ]
  },
  {
   "cell_type": "markdown",
   "metadata": {},
   "source": [
    "## Normalizing"
   ]
  },
  {
   "cell_type": "code",
   "execution_count": null,
   "metadata": {},
   "outputs": [],
   "source": [
    "# Effects of a Gaussian Filter:\n",
    "plt.figure(0)\n",
    "plt.imshow(t_img)\n",
    "plt.title(\"Original\")\n",
    "plt.figure(1)\n",
    "plt.imshow(cv2.GaussianBlur(t_img,(3,3),0))\n",
    "plt.title(\"Original\")"
   ]
  },
  {
   "cell_type": "code",
   "execution_count": null,
   "metadata": {},
   "outputs": [],
   "source": [
    "# Normalization strategy:\n",
    "def normalize_img(im_ar):\n",
    "#   Gaussian Blur to start with 3x3 kernel\n",
    "    im_ar = cv2.GaussianBlur(im_ar,(3,3),0)\n",
    "    xMin = im_ar.min()\n",
    "    xMax = im_ar.max()\n",
    "    im_ar = (im_ar-xMin)/(xMax-xMin)\n",
    "    return im_ar\n",
    "    "
   ]
  },
  {
   "cell_type": "code",
   "execution_count": null,
   "metadata": {
    "scrolled": true
   },
   "outputs": [],
   "source": [
    "# Example:\n",
    "Image.fromarray(normalize_img(t_img))"
   ]
  },
  {
   "cell_type": "code",
   "execution_count": null,
   "metadata": {},
   "outputs": [],
   "source": [
    "# Testing Generalization:\n",
    "sample = labels.sample(n=3, random_state=k)\n",
    "for i, row in enumerate(sample.values):\n",
    "    cell_type, path = row\n",
    "    plt.figure(i)\n",
    "    im = normalize_img(convert_image(path).astype(\"float\"))\n",
    "    print(im.mean())\n",
    "    print(im.min())\n",
    "    plt.imshow(Image.fromarray(im.astype(\"uint8\")))\n",
    "    plt.title(cell_type)\n",
    "k+=1"
   ]
  },
  {
   "cell_type": "markdown",
   "metadata": {},
   "source": [
    "# Testing the Preprocessed Data"
   ]
  },
  {
   "cell_type": "code",
   "execution_count": 18,
   "metadata": {},
   "outputs": [],
   "source": [
    "rendered_images = [\"../dataset/processed_images/\"+f for f in os.listdir(\"../dataset/processed_images\")]"
   ]
  },
  {
   "cell_type": "code",
   "execution_count": 41,
   "metadata": {},
   "outputs": [],
   "source": [
    "import pickle\n",
    "def parse_pickle(path):\n",
    "    with open(path, 'rb') as f:\n",
    "        t= pickle.load(f)\n",
    "        t = np.dstack(t*100).astype('uint8')\n",
    "        t_reshaped = np.transpose(t, (0, 2, 1))\n",
    "        return Image.fromarray(t_reshaped)"
   ]
  },
  {
   "cell_type": "code",
   "execution_count": 172,
   "metadata": {},
   "outputs": [
    {
     "data": {
      "image/png": "[encoded data removed]",
      "text/plain": [
       "<PIL.Image.Image image mode=RGB size=112x112 at 0x7F6E5B41ECC0>"
      ]
     },
     "execution_count": 172,
     "metadata": {},
     "output_type": "execute_result"
    }
   ],
   "source": [
    "import random\n",
    "parse_pickle(rendered_images[random.randint(0,len(rendered_images)-1)])"
   ]
  }
 ],
 "metadata": {
  "kernelspec": {
   "display_name": "Python 3",
   "language": "python",
   "name": "python3"
  },
  "language_info": {
   "codemirror_mode": {
    "name": "ipython",
    "version": 3
   },
   "file_extension": ".py",
   "mimetype": "text/x-python",
   "name": "python",
   "nbconvert_exporter": "python",
   "pygments_lexer": "ipython3",
   "version": "3.6.8"
  }
 },
 "nbformat": 4,
 "nbformat_minor": 2
}
